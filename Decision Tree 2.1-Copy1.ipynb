{
 "cells": [
  {
   "cell_type": "markdown",
   "id": "da68cb07",
   "metadata": {},
   "source": [
    "# A. Formulasi Masalah"
   ]
  },
  {
   "cell_type": "markdown",
   "id": "a2ed1f81",
   "metadata": {},
   "source": [
    "Dari dataset tersebut akan mengklasifikasi kualitas pencemaran udara berdasarkan kategori perhitungan indeks standar pencemaran udara. Dimana dataset Indeks Standar Pencemaran Udara (ISPU) 7 tahun"
   ]
  },
  {
   "cell_type": "markdown",
   "id": "8657f87c",
   "metadata": {},
   "source": [
    "# B. Eksplorasi dan Persiapan Data\n",
    "\n",
    "## Importing Libraries\n",
    "\n",
    "\n",
    "Import library yang dibutuhkan untuk mengolah data dan fungsi yang membantu untuk membangun model"
   ]
  },
  {
   "cell_type": "code",
   "execution_count": 1,
   "id": "01899256",
   "metadata": {},
   "outputs": [],
   "source": [
    "import numpy as np\n",
    "import pandas as pd\n",
    "from scipy import stats\n",
    "from sklearn.preprocessing import MinMaxScaler\n",
    "import matplotlib.pyplot as plt\n",
    "import seaborn as sns\n",
    "from sklearn.preprocessing import LabelEncoder\n",
    "import matplotlib.cm as cm"
   ]
  },
  {
   "cell_type": "markdown",
   "id": "51018f0e",
   "metadata": {},
   "source": [
    "# Import Data"
   ]
  },
  {
   "cell_type": "code",
   "execution_count": 2,
   "id": "3644eec4",
   "metadata": {},
   "outputs": [],
   "source": [
    "df2010 = pd.read_csv(\"ISPU_2010.csv\")\n",
    "\n",
    "df2012 = pd.read_csv(\"ISPU_2012.csv\")\n",
    "\n",
    "df2013 = pd.read_csv(\"ISPU_2013.csv\")\n",
    "\n",
    "df2014 = pd.read_csv(\"ISPU_2014.csv\")\n",
    "\n",
    "df2015 = pd.read_csv(\"ISPU_2015.csv\")\n",
    "\n",
    "df2016 = pd.read_csv(\"ISPU_2016.csv\")\n",
    "\n",
    "df2021 = pd.read_csv(\"ISPU_2021.csv\")"
   ]
  },
  {
   "cell_type": "markdown",
   "id": "10465901",
   "metadata": {},
   "source": [
    "## Integrasi data\n",
    "Menggabungkan data dari berbagai sumber ke dalam satu tampilan terpadu."
   ]
  },
  {
   "cell_type": "code",
   "execution_count": 3,
   "id": "857484a1",
   "metadata": {},
   "outputs": [],
   "source": [
    "ispu = pd.concat([df2016, df2021,df2010, df2012,df2012, df2013, df2014,df2015])"
   ]
  },
  {
   "cell_type": "code",
   "execution_count": 4,
   "id": "0d854083",
   "metadata": {
    "scrolled": true
   },
   "outputs": [
    {
     "data": {
      "text/html": [
       "<div>\n",
       "<style scoped>\n",
       "    .dataframe tbody tr th:only-of-type {\n",
       "        vertical-align: middle;\n",
       "    }\n",
       "\n",
       "    .dataframe tbody tr th {\n",
       "        vertical-align: top;\n",
       "    }\n",
       "\n",
       "    .dataframe thead th {\n",
       "        text-align: right;\n",
       "    }\n",
       "</style>\n",
       "<table border=\"1\" class=\"dataframe\">\n",
       "  <thead>\n",
       "    <tr style=\"text-align: right;\">\n",
       "      <th></th>\n",
       "      <th>tanggal</th>\n",
       "      <th>pm10</th>\n",
       "      <th>pm25</th>\n",
       "      <th>so2</th>\n",
       "      <th>co</th>\n",
       "      <th>o3</th>\n",
       "      <th>no2</th>\n",
       "      <th>max</th>\n",
       "      <th>critical</th>\n",
       "      <th>categori</th>\n",
       "      <th>lokasi</th>\n",
       "    </tr>\n",
       "  </thead>\n",
       "  <tbody>\n",
       "    <tr>\n",
       "      <th>0</th>\n",
       "      <td>8/1/2016</td>\n",
       "      <td>73</td>\n",
       "      <td>---</td>\n",
       "      <td>29</td>\n",
       "      <td>45</td>\n",
       "      <td>100</td>\n",
       "      <td>11</td>\n",
       "      <td>100</td>\n",
       "      <td>O3</td>\n",
       "      <td>SEDANG</td>\n",
       "      <td>DKI3</td>\n",
       "    </tr>\n",
       "    <tr>\n",
       "      <th>1</th>\n",
       "      <td>8/2/2016</td>\n",
       "      <td>58</td>\n",
       "      <td>---</td>\n",
       "      <td>30</td>\n",
       "      <td>38</td>\n",
       "      <td>131</td>\n",
       "      <td>14</td>\n",
       "      <td>131</td>\n",
       "      <td>O3</td>\n",
       "      <td>TIDAK SEHAT</td>\n",
       "      <td>DKI2</td>\n",
       "    </tr>\n",
       "    <tr>\n",
       "      <th>2</th>\n",
       "      <td>8/3/2016</td>\n",
       "      <td>64</td>\n",
       "      <td>---</td>\n",
       "      <td>30</td>\n",
       "      <td>41</td>\n",
       "      <td>136</td>\n",
       "      <td>21</td>\n",
       "      <td>136</td>\n",
       "      <td>O3</td>\n",
       "      <td>TIDAK SEHAT</td>\n",
       "      <td>DKI5</td>\n",
       "    </tr>\n",
       "    <tr>\n",
       "      <th>3</th>\n",
       "      <td>8/4/2016</td>\n",
       "      <td>87</td>\n",
       "      <td>---</td>\n",
       "      <td>30</td>\n",
       "      <td>49</td>\n",
       "      <td>133</td>\n",
       "      <td>15</td>\n",
       "      <td>133</td>\n",
       "      <td>O3</td>\n",
       "      <td>TIDAK SEHAT</td>\n",
       "      <td>DKI2</td>\n",
       "    </tr>\n",
       "    <tr>\n",
       "      <th>4</th>\n",
       "      <td>8/5/2016</td>\n",
       "      <td>107</td>\n",
       "      <td>---</td>\n",
       "      <td>30</td>\n",
       "      <td>47</td>\n",
       "      <td>108</td>\n",
       "      <td>21</td>\n",
       "      <td>108</td>\n",
       "      <td>O3</td>\n",
       "      <td>TIDAK SEHAT</td>\n",
       "      <td>DKI3</td>\n",
       "    </tr>\n",
       "    <tr>\n",
       "      <th>...</th>\n",
       "      <td>...</td>\n",
       "      <td>...</td>\n",
       "      <td>...</td>\n",
       "      <td>...</td>\n",
       "      <td>...</td>\n",
       "      <td>...</td>\n",
       "      <td>...</td>\n",
       "      <td>...</td>\n",
       "      <td>...</td>\n",
       "      <td>...</td>\n",
       "      <td>...</td>\n",
       "    </tr>\n",
       "    <tr>\n",
       "      <th>2004</th>\n",
       "      <td>9/26/2015</td>\n",
       "      <td>45</td>\n",
       "      <td>NaN</td>\n",
       "      <td>11</td>\n",
       "      <td>28</td>\n",
       "      <td>53</td>\n",
       "      <td>13</td>\n",
       "      <td>53</td>\n",
       "      <td>O3</td>\n",
       "      <td>SEDANG</td>\n",
       "      <td>DKI5 (Kebon Jeruk)</td>\n",
       "    </tr>\n",
       "    <tr>\n",
       "      <th>2005</th>\n",
       "      <td>9/27/2015</td>\n",
       "      <td>31</td>\n",
       "      <td>NaN</td>\n",
       "      <td>11</td>\n",
       "      <td>22</td>\n",
       "      <td>49</td>\n",
       "      <td>10</td>\n",
       "      <td>49</td>\n",
       "      <td>O3</td>\n",
       "      <td>BAIK</td>\n",
       "      <td>DKI5 (Kebon Jeruk)</td>\n",
       "    </tr>\n",
       "    <tr>\n",
       "      <th>2006</th>\n",
       "      <td>9/28/2015</td>\n",
       "      <td>41</td>\n",
       "      <td>NaN</td>\n",
       "      <td>11</td>\n",
       "      <td>25</td>\n",
       "      <td>59</td>\n",
       "      <td>13</td>\n",
       "      <td>59</td>\n",
       "      <td>O3</td>\n",
       "      <td>SEDANG</td>\n",
       "      <td>DKI5 (Kebon Jeruk)</td>\n",
       "    </tr>\n",
       "    <tr>\n",
       "      <th>2007</th>\n",
       "      <td>9/29/2015</td>\n",
       "      <td>25</td>\n",
       "      <td>NaN</td>\n",
       "      <td>11</td>\n",
       "      <td>27</td>\n",
       "      <td>41</td>\n",
       "      <td>12</td>\n",
       "      <td>41</td>\n",
       "      <td>O3</td>\n",
       "      <td>BAIK</td>\n",
       "      <td>DKI5 (Kebon Jeruk)</td>\n",
       "    </tr>\n",
       "    <tr>\n",
       "      <th>2008</th>\n",
       "      <td>9/30/2015</td>\n",
       "      <td>22</td>\n",
       "      <td>NaN</td>\n",
       "      <td>12</td>\n",
       "      <td>18</td>\n",
       "      <td>40</td>\n",
       "      <td>13</td>\n",
       "      <td>40</td>\n",
       "      <td>O3</td>\n",
       "      <td>BAIK</td>\n",
       "      <td>DKI5 (Kebon Jeruk)</td>\n",
       "    </tr>\n",
       "  </tbody>\n",
       "</table>\n",
       "<p>14868 rows × 11 columns</p>\n",
       "</div>"
      ],
      "text/plain": [
       "        tanggal pm10 pm25 so2  co   o3 no2  max critical     categori  \\\n",
       "0      8/1/2016   73  ---  29  45  100  11  100       O3       SEDANG   \n",
       "1      8/2/2016   58  ---  30  38  131  14  131       O3  TIDAK SEHAT   \n",
       "2      8/3/2016   64  ---  30  41  136  21  136       O3  TIDAK SEHAT   \n",
       "3      8/4/2016   87  ---  30  49  133  15  133       O3  TIDAK SEHAT   \n",
       "4      8/5/2016  107  ---  30  47  108  21  108       O3  TIDAK SEHAT   \n",
       "...         ...  ...  ...  ..  ..  ...  ..  ...      ...          ...   \n",
       "2004  9/26/2015   45  NaN  11  28   53  13   53       O3       SEDANG   \n",
       "2005  9/27/2015   31  NaN  11  22   49  10   49       O3         BAIK   \n",
       "2006  9/28/2015   41  NaN  11  25   59  13   59       O3       SEDANG   \n",
       "2007  9/29/2015   25  NaN  11  27   41  12   41       O3         BAIK   \n",
       "2008  9/30/2015   22  NaN  12  18   40  13   40       O3         BAIK   \n",
       "\n",
       "                  lokasi  \n",
       "0                   DKI3  \n",
       "1                   DKI2  \n",
       "2                   DKI5  \n",
       "3                   DKI2  \n",
       "4                   DKI3  \n",
       "...                  ...  \n",
       "2004  DKI5 (Kebon Jeruk)  \n",
       "2005  DKI5 (Kebon Jeruk)  \n",
       "2006  DKI5 (Kebon Jeruk)  \n",
       "2007  DKI5 (Kebon Jeruk)  \n",
       "2008  DKI5 (Kebon Jeruk)  \n",
       "\n",
       "[14868 rows x 11 columns]"
      ]
     },
     "execution_count": 4,
     "metadata": {},
     "output_type": "execute_result"
    }
   ],
   "source": [
    "ispu"
   ]
  },
  {
   "cell_type": "markdown",
   "id": "4b4d1915",
   "metadata": {},
   "source": [
    "### mengubah type data menjadi string atau object"
   ]
  },
  {
   "cell_type": "code",
   "execution_count": 5,
   "id": "59711183",
   "metadata": {
    "scrolled": true
   },
   "outputs": [
    {
     "name": "stdout",
     "output_type": "stream",
     "text": [
      "<class 'pandas.core.frame.DataFrame'>\n",
      "Int64Index: 14868 entries, 0 to 2008\n",
      "Data columns (total 11 columns):\n",
      " #   Column    Non-Null Count  Dtype \n",
      "---  ------    --------------  ----- \n",
      " 0   tanggal   14868 non-null  object\n",
      " 1   pm10      14868 non-null  object\n",
      " 2   pm25      14868 non-null  object\n",
      " 3   so2       14868 non-null  object\n",
      " 4   co        14868 non-null  object\n",
      " 5   o3        14868 non-null  object\n",
      " 6   no2       14868 non-null  object\n",
      " 7   max       14868 non-null  object\n",
      " 8   critical  14868 non-null  object\n",
      " 9   categori  14868 non-null  object\n",
      " 10  lokasi    14868 non-null  object\n",
      "dtypes: object(11)\n",
      "memory usage: 1.4+ MB\n"
     ]
    }
   ],
   "source": [
    "df_cleaned =ispu.astype(str)\n",
    "df_cleaned.info()"
   ]
  },
  {
   "cell_type": "code",
   "execution_count": 6,
   "id": "6396209b",
   "metadata": {},
   "outputs": [
    {
     "data": {
      "text/html": [
       "<div>\n",
       "<style scoped>\n",
       "    .dataframe tbody tr th:only-of-type {\n",
       "        vertical-align: middle;\n",
       "    }\n",
       "\n",
       "    .dataframe tbody tr th {\n",
       "        vertical-align: top;\n",
       "    }\n",
       "\n",
       "    .dataframe thead th {\n",
       "        text-align: right;\n",
       "    }\n",
       "</style>\n",
       "<table border=\"1\" class=\"dataframe\">\n",
       "  <thead>\n",
       "    <tr style=\"text-align: right;\">\n",
       "      <th></th>\n",
       "      <th>tanggal</th>\n",
       "      <th>pm10</th>\n",
       "      <th>pm25</th>\n",
       "      <th>so2</th>\n",
       "      <th>co</th>\n",
       "      <th>o3</th>\n",
       "      <th>no2</th>\n",
       "      <th>max</th>\n",
       "      <th>critical</th>\n",
       "      <th>categori</th>\n",
       "      <th>lokasi</th>\n",
       "    </tr>\n",
       "  </thead>\n",
       "  <tbody>\n",
       "    <tr>\n",
       "      <th>0</th>\n",
       "      <td>8/1/2016</td>\n",
       "      <td>73</td>\n",
       "      <td>---</td>\n",
       "      <td>29</td>\n",
       "      <td>45</td>\n",
       "      <td>100</td>\n",
       "      <td>11</td>\n",
       "      <td>100</td>\n",
       "      <td>O3</td>\n",
       "      <td>SEDANG</td>\n",
       "      <td>DKI3</td>\n",
       "    </tr>\n",
       "    <tr>\n",
       "      <th>1</th>\n",
       "      <td>8/2/2016</td>\n",
       "      <td>58</td>\n",
       "      <td>---</td>\n",
       "      <td>30</td>\n",
       "      <td>38</td>\n",
       "      <td>131</td>\n",
       "      <td>14</td>\n",
       "      <td>131</td>\n",
       "      <td>O3</td>\n",
       "      <td>TIDAK SEHAT</td>\n",
       "      <td>DKI2</td>\n",
       "    </tr>\n",
       "    <tr>\n",
       "      <th>2</th>\n",
       "      <td>8/3/2016</td>\n",
       "      <td>64</td>\n",
       "      <td>---</td>\n",
       "      <td>30</td>\n",
       "      <td>41</td>\n",
       "      <td>136</td>\n",
       "      <td>21</td>\n",
       "      <td>136</td>\n",
       "      <td>O3</td>\n",
       "      <td>TIDAK SEHAT</td>\n",
       "      <td>DKI5</td>\n",
       "    </tr>\n",
       "    <tr>\n",
       "      <th>3</th>\n",
       "      <td>8/4/2016</td>\n",
       "      <td>87</td>\n",
       "      <td>---</td>\n",
       "      <td>30</td>\n",
       "      <td>49</td>\n",
       "      <td>133</td>\n",
       "      <td>15</td>\n",
       "      <td>133</td>\n",
       "      <td>O3</td>\n",
       "      <td>TIDAK SEHAT</td>\n",
       "      <td>DKI2</td>\n",
       "    </tr>\n",
       "    <tr>\n",
       "      <th>4</th>\n",
       "      <td>8/5/2016</td>\n",
       "      <td>107</td>\n",
       "      <td>---</td>\n",
       "      <td>30</td>\n",
       "      <td>47</td>\n",
       "      <td>108</td>\n",
       "      <td>21</td>\n",
       "      <td>108</td>\n",
       "      <td>O3</td>\n",
       "      <td>TIDAK SEHAT</td>\n",
       "      <td>DKI3</td>\n",
       "    </tr>\n",
       "    <tr>\n",
       "      <th>...</th>\n",
       "      <td>...</td>\n",
       "      <td>...</td>\n",
       "      <td>...</td>\n",
       "      <td>...</td>\n",
       "      <td>...</td>\n",
       "      <td>...</td>\n",
       "      <td>...</td>\n",
       "      <td>...</td>\n",
       "      <td>...</td>\n",
       "      <td>...</td>\n",
       "      <td>...</td>\n",
       "    </tr>\n",
       "    <tr>\n",
       "      <th>2004</th>\n",
       "      <td>9/26/2015</td>\n",
       "      <td>45</td>\n",
       "      <td>nan</td>\n",
       "      <td>11</td>\n",
       "      <td>28</td>\n",
       "      <td>53</td>\n",
       "      <td>13</td>\n",
       "      <td>53</td>\n",
       "      <td>O3</td>\n",
       "      <td>SEDANG</td>\n",
       "      <td>DKI5 (Kebon Jeruk)</td>\n",
       "    </tr>\n",
       "    <tr>\n",
       "      <th>2005</th>\n",
       "      <td>9/27/2015</td>\n",
       "      <td>31</td>\n",
       "      <td>nan</td>\n",
       "      <td>11</td>\n",
       "      <td>22</td>\n",
       "      <td>49</td>\n",
       "      <td>10</td>\n",
       "      <td>49</td>\n",
       "      <td>O3</td>\n",
       "      <td>BAIK</td>\n",
       "      <td>DKI5 (Kebon Jeruk)</td>\n",
       "    </tr>\n",
       "    <tr>\n",
       "      <th>2006</th>\n",
       "      <td>9/28/2015</td>\n",
       "      <td>41</td>\n",
       "      <td>nan</td>\n",
       "      <td>11</td>\n",
       "      <td>25</td>\n",
       "      <td>59</td>\n",
       "      <td>13</td>\n",
       "      <td>59</td>\n",
       "      <td>O3</td>\n",
       "      <td>SEDANG</td>\n",
       "      <td>DKI5 (Kebon Jeruk)</td>\n",
       "    </tr>\n",
       "    <tr>\n",
       "      <th>2007</th>\n",
       "      <td>9/29/2015</td>\n",
       "      <td>25</td>\n",
       "      <td>nan</td>\n",
       "      <td>11</td>\n",
       "      <td>27</td>\n",
       "      <td>41</td>\n",
       "      <td>12</td>\n",
       "      <td>41</td>\n",
       "      <td>O3</td>\n",
       "      <td>BAIK</td>\n",
       "      <td>DKI5 (Kebon Jeruk)</td>\n",
       "    </tr>\n",
       "    <tr>\n",
       "      <th>2008</th>\n",
       "      <td>9/30/2015</td>\n",
       "      <td>22</td>\n",
       "      <td>nan</td>\n",
       "      <td>12</td>\n",
       "      <td>18</td>\n",
       "      <td>40</td>\n",
       "      <td>13</td>\n",
       "      <td>40</td>\n",
       "      <td>O3</td>\n",
       "      <td>BAIK</td>\n",
       "      <td>DKI5 (Kebon Jeruk)</td>\n",
       "    </tr>\n",
       "  </tbody>\n",
       "</table>\n",
       "<p>14868 rows × 11 columns</p>\n",
       "</div>"
      ],
      "text/plain": [
       "        tanggal pm10 pm25 so2  co   o3 no2  max critical     categori  \\\n",
       "0      8/1/2016   73  ---  29  45  100  11  100       O3       SEDANG   \n",
       "1      8/2/2016   58  ---  30  38  131  14  131       O3  TIDAK SEHAT   \n",
       "2      8/3/2016   64  ---  30  41  136  21  136       O3  TIDAK SEHAT   \n",
       "3      8/4/2016   87  ---  30  49  133  15  133       O3  TIDAK SEHAT   \n",
       "4      8/5/2016  107  ---  30  47  108  21  108       O3  TIDAK SEHAT   \n",
       "...         ...  ...  ...  ..  ..  ...  ..  ...      ...          ...   \n",
       "2004  9/26/2015   45  nan  11  28   53  13   53       O3       SEDANG   \n",
       "2005  9/27/2015   31  nan  11  22   49  10   49       O3         BAIK   \n",
       "2006  9/28/2015   41  nan  11  25   59  13   59       O3       SEDANG   \n",
       "2007  9/29/2015   25  nan  11  27   41  12   41       O3         BAIK   \n",
       "2008  9/30/2015   22  nan  12  18   40  13   40       O3         BAIK   \n",
       "\n",
       "                  lokasi  \n",
       "0                   DKI3  \n",
       "1                   DKI2  \n",
       "2                   DKI5  \n",
       "3                   DKI2  \n",
       "4                   DKI3  \n",
       "...                  ...  \n",
       "2004  DKI5 (Kebon Jeruk)  \n",
       "2005  DKI5 (Kebon Jeruk)  \n",
       "2006  DKI5 (Kebon Jeruk)  \n",
       "2007  DKI5 (Kebon Jeruk)  \n",
       "2008  DKI5 (Kebon Jeruk)  \n",
       "\n",
       "[14868 rows x 11 columns]"
      ]
     },
     "execution_count": 6,
     "metadata": {},
     "output_type": "execute_result"
    }
   ],
   "source": [
    "df_cleaned"
   ]
  },
  {
   "cell_type": "markdown",
   "id": "dfb94257",
   "metadata": {},
   "source": [
    "#### **About the data:**\n",
    "\n",
    "Dataset berisi sekitar 7 tahun pengamatan kualitas udara dari Provinsi DKI Jakarta. Pengamatan diambil dari berbagai stasiun.\n",
    "\n",
    "Dalam proyek ini, kami akan menggunakan data ini untuk memprediksi apakah hari ini kualitas udara akan baik, sedang, atau tidak sehat. Ada 11 atribut termasuk variabel target \"categori\", yang menunjukkan apakah hari ini kualitas udara akan baik, sedang, atau tidak sehat."
   ]
  },
  {
   "cell_type": "markdown",
   "id": "df88b3b0",
   "metadata": {},
   "source": [
    "### Menghapus kolom yang tidak perlu\n",
    "menghapus kolom max dan critical karena parameter yang hasil pengukurannya paling tinggi dari pm10 sampai no2 yang bisa kita hitung sendiri nantinya dan menghapus kolom tanggal dan stasiun karena kategori berasal dari pm10 sampai no2."
   ]
  },
  {
   "cell_type": "code",
   "execution_count": 7,
   "id": "451495b2",
   "metadata": {
    "scrolled": true
   },
   "outputs": [
    {
     "data": {
      "text/html": [
       "<div>\n",
       "<style scoped>\n",
       "    .dataframe tbody tr th:only-of-type {\n",
       "        vertical-align: middle;\n",
       "    }\n",
       "\n",
       "    .dataframe tbody tr th {\n",
       "        vertical-align: top;\n",
       "    }\n",
       "\n",
       "    .dataframe thead th {\n",
       "        text-align: right;\n",
       "    }\n",
       "</style>\n",
       "<table border=\"1\" class=\"dataframe\">\n",
       "  <thead>\n",
       "    <tr style=\"text-align: right;\">\n",
       "      <th></th>\n",
       "      <th>pm10</th>\n",
       "      <th>pm25</th>\n",
       "      <th>so2</th>\n",
       "      <th>co</th>\n",
       "      <th>o3</th>\n",
       "      <th>no2</th>\n",
       "      <th>categori</th>\n",
       "    </tr>\n",
       "  </thead>\n",
       "  <tbody>\n",
       "    <tr>\n",
       "      <th>0</th>\n",
       "      <td>73</td>\n",
       "      <td>---</td>\n",
       "      <td>29</td>\n",
       "      <td>45</td>\n",
       "      <td>100</td>\n",
       "      <td>11</td>\n",
       "      <td>SEDANG</td>\n",
       "    </tr>\n",
       "    <tr>\n",
       "      <th>1</th>\n",
       "      <td>58</td>\n",
       "      <td>---</td>\n",
       "      <td>30</td>\n",
       "      <td>38</td>\n",
       "      <td>131</td>\n",
       "      <td>14</td>\n",
       "      <td>TIDAK SEHAT</td>\n",
       "    </tr>\n",
       "    <tr>\n",
       "      <th>2</th>\n",
       "      <td>64</td>\n",
       "      <td>---</td>\n",
       "      <td>30</td>\n",
       "      <td>41</td>\n",
       "      <td>136</td>\n",
       "      <td>21</td>\n",
       "      <td>TIDAK SEHAT</td>\n",
       "    </tr>\n",
       "    <tr>\n",
       "      <th>3</th>\n",
       "      <td>87</td>\n",
       "      <td>---</td>\n",
       "      <td>30</td>\n",
       "      <td>49</td>\n",
       "      <td>133</td>\n",
       "      <td>15</td>\n",
       "      <td>TIDAK SEHAT</td>\n",
       "    </tr>\n",
       "    <tr>\n",
       "      <th>4</th>\n",
       "      <td>107</td>\n",
       "      <td>---</td>\n",
       "      <td>30</td>\n",
       "      <td>47</td>\n",
       "      <td>108</td>\n",
       "      <td>21</td>\n",
       "      <td>TIDAK SEHAT</td>\n",
       "    </tr>\n",
       "    <tr>\n",
       "      <th>...</th>\n",
       "      <td>...</td>\n",
       "      <td>...</td>\n",
       "      <td>...</td>\n",
       "      <td>...</td>\n",
       "      <td>...</td>\n",
       "      <td>...</td>\n",
       "      <td>...</td>\n",
       "    </tr>\n",
       "    <tr>\n",
       "      <th>2004</th>\n",
       "      <td>45</td>\n",
       "      <td>nan</td>\n",
       "      <td>11</td>\n",
       "      <td>28</td>\n",
       "      <td>53</td>\n",
       "      <td>13</td>\n",
       "      <td>SEDANG</td>\n",
       "    </tr>\n",
       "    <tr>\n",
       "      <th>2005</th>\n",
       "      <td>31</td>\n",
       "      <td>nan</td>\n",
       "      <td>11</td>\n",
       "      <td>22</td>\n",
       "      <td>49</td>\n",
       "      <td>10</td>\n",
       "      <td>BAIK</td>\n",
       "    </tr>\n",
       "    <tr>\n",
       "      <th>2006</th>\n",
       "      <td>41</td>\n",
       "      <td>nan</td>\n",
       "      <td>11</td>\n",
       "      <td>25</td>\n",
       "      <td>59</td>\n",
       "      <td>13</td>\n",
       "      <td>SEDANG</td>\n",
       "    </tr>\n",
       "    <tr>\n",
       "      <th>2007</th>\n",
       "      <td>25</td>\n",
       "      <td>nan</td>\n",
       "      <td>11</td>\n",
       "      <td>27</td>\n",
       "      <td>41</td>\n",
       "      <td>12</td>\n",
       "      <td>BAIK</td>\n",
       "    </tr>\n",
       "    <tr>\n",
       "      <th>2008</th>\n",
       "      <td>22</td>\n",
       "      <td>nan</td>\n",
       "      <td>12</td>\n",
       "      <td>18</td>\n",
       "      <td>40</td>\n",
       "      <td>13</td>\n",
       "      <td>BAIK</td>\n",
       "    </tr>\n",
       "  </tbody>\n",
       "</table>\n",
       "<p>14868 rows × 7 columns</p>\n",
       "</div>"
      ],
      "text/plain": [
       "     pm10 pm25 so2  co   o3 no2     categori\n",
       "0      73  ---  29  45  100  11       SEDANG\n",
       "1      58  ---  30  38  131  14  TIDAK SEHAT\n",
       "2      64  ---  30  41  136  21  TIDAK SEHAT\n",
       "3      87  ---  30  49  133  15  TIDAK SEHAT\n",
       "4     107  ---  30  47  108  21  TIDAK SEHAT\n",
       "...   ...  ...  ..  ..  ...  ..          ...\n",
       "2004   45  nan  11  28   53  13       SEDANG\n",
       "2005   31  nan  11  22   49  10         BAIK\n",
       "2006   41  nan  11  25   59  13       SEDANG\n",
       "2007   25  nan  11  27   41  12         BAIK\n",
       "2008   22  nan  12  18   40  13         BAIK\n",
       "\n",
       "[14868 rows x 7 columns]"
      ]
     },
     "execution_count": 7,
     "metadata": {},
     "output_type": "execute_result"
    }
   ],
   "source": [
    "df_cleaned = df_cleaned.drop(columns=['tanggal', 'lokasi', 'max', 'critical'])\n",
    "df_cleaned"
   ]
  },
  {
   "cell_type": "markdown",
   "id": "36cfad7f",
   "metadata": {},
   "source": [
    "### Handling missing data\n",
    "Pada tahapan ini, akan dilakukan pengecheckan dataset apakah terdapat data yang bernilai null atau unknown. Ada beberapa strategi untuk menangani data yang bernilai null atau unknown, pada tugas ini saya memilih menghapus atau drop data yang bernilai null atau unknown karena jumlah record dataset yang dimiliki lumayan banyak."
   ]
  },
  {
   "cell_type": "code",
   "execution_count": 8,
   "id": "f69dbe93",
   "metadata": {},
   "outputs": [
    {
     "data": {
      "text/plain": [
       "pm10          709\n",
       "pm25        13053\n",
       "so2           726\n",
       "co            419\n",
       "o3            721\n",
       "no2           536\n",
       "categori      216\n",
       "dtype: int64"
      ]
     },
     "execution_count": 8,
     "metadata": {},
     "output_type": "execute_result"
    }
   ],
   "source": [
    "df_cleaned = df_cleaned.replace('---', np.nan)\n",
    "df_cleaned = df_cleaned.replace('nan', np.nan)\n",
    "df_cleaned = df_cleaned.replace('TIDAK ADA DATA', np.nan)\n",
    "\n",
    "df_cleaned.isnull().sum()"
   ]
  },
  {
   "cell_type": "code",
   "execution_count": 9,
   "id": "b9010a4e",
   "metadata": {
    "scrolled": true
   },
   "outputs": [
    {
     "name": "stderr",
     "output_type": "stream",
     "text": [
      "C:\\ProgramData\\Anaconda3\\envs\\AQIPrimeProject\\lib\\site-packages\\ipykernel_launcher.py:2: FutureWarning: Dropping of nuisance columns in DataFrame reductions (with 'numeric_only=None') is deprecated; in a future version this will raise TypeError.  Select only valid columns before calling the reduction.\n",
      "  \n"
     ]
    },
    {
     "data": {
      "text/plain": [
       "pm10        0\n",
       "pm25        0\n",
       "so2         0\n",
       "co          0\n",
       "o3          0\n",
       "no2         0\n",
       "categori    0\n",
       "dtype: int64"
      ]
     },
     "execution_count": 9,
     "metadata": {},
     "output_type": "execute_result"
    }
   ],
   "source": [
    "#numerik\n",
    "df_cleaned = round(df_cleaned.fillna(df_cleaned.median()))\n",
    "\n",
    "#kategori\n",
    "df_cleaned = df_cleaned.dropna(axis=0)\n",
    "\n",
    "df_cleaned.isnull().sum()"
   ]
  },
  {
   "cell_type": "code",
   "execution_count": 10,
   "id": "70d0fb77",
   "metadata": {},
   "outputs": [
    {
     "data": {
      "text/html": [
       "<div>\n",
       "<style scoped>\n",
       "    .dataframe tbody tr th:only-of-type {\n",
       "        vertical-align: middle;\n",
       "    }\n",
       "\n",
       "    .dataframe tbody tr th {\n",
       "        vertical-align: top;\n",
       "    }\n",
       "\n",
       "    .dataframe thead th {\n",
       "        text-align: right;\n",
       "    }\n",
       "</style>\n",
       "<table border=\"1\" class=\"dataframe\">\n",
       "  <thead>\n",
       "    <tr style=\"text-align: right;\">\n",
       "      <th></th>\n",
       "      <th>pm10</th>\n",
       "      <th>pm25</th>\n",
       "      <th>so2</th>\n",
       "      <th>co</th>\n",
       "      <th>o3</th>\n",
       "      <th>no2</th>\n",
       "      <th>categori</th>\n",
       "    </tr>\n",
       "  </thead>\n",
       "  <tbody>\n",
       "    <tr>\n",
       "      <th>0</th>\n",
       "      <td>73</td>\n",
       "      <td>80.0</td>\n",
       "      <td>29</td>\n",
       "      <td>45</td>\n",
       "      <td>100</td>\n",
       "      <td>11</td>\n",
       "      <td>SEDANG</td>\n",
       "    </tr>\n",
       "    <tr>\n",
       "      <th>1</th>\n",
       "      <td>58</td>\n",
       "      <td>80.0</td>\n",
       "      <td>30</td>\n",
       "      <td>38</td>\n",
       "      <td>131</td>\n",
       "      <td>14</td>\n",
       "      <td>TIDAK SEHAT</td>\n",
       "    </tr>\n",
       "    <tr>\n",
       "      <th>2</th>\n",
       "      <td>64</td>\n",
       "      <td>80.0</td>\n",
       "      <td>30</td>\n",
       "      <td>41</td>\n",
       "      <td>136</td>\n",
       "      <td>21</td>\n",
       "      <td>TIDAK SEHAT</td>\n",
       "    </tr>\n",
       "    <tr>\n",
       "      <th>3</th>\n",
       "      <td>87</td>\n",
       "      <td>80.0</td>\n",
       "      <td>30</td>\n",
       "      <td>49</td>\n",
       "      <td>133</td>\n",
       "      <td>15</td>\n",
       "      <td>TIDAK SEHAT</td>\n",
       "    </tr>\n",
       "    <tr>\n",
       "      <th>4</th>\n",
       "      <td>107</td>\n",
       "      <td>80.0</td>\n",
       "      <td>30</td>\n",
       "      <td>47</td>\n",
       "      <td>108</td>\n",
       "      <td>21</td>\n",
       "      <td>TIDAK SEHAT</td>\n",
       "    </tr>\n",
       "    <tr>\n",
       "      <th>...</th>\n",
       "      <td>...</td>\n",
       "      <td>...</td>\n",
       "      <td>...</td>\n",
       "      <td>...</td>\n",
       "      <td>...</td>\n",
       "      <td>...</td>\n",
       "      <td>...</td>\n",
       "    </tr>\n",
       "    <tr>\n",
       "      <th>2004</th>\n",
       "      <td>45</td>\n",
       "      <td>80.0</td>\n",
       "      <td>11</td>\n",
       "      <td>28</td>\n",
       "      <td>53</td>\n",
       "      <td>13</td>\n",
       "      <td>SEDANG</td>\n",
       "    </tr>\n",
       "    <tr>\n",
       "      <th>2005</th>\n",
       "      <td>31</td>\n",
       "      <td>80.0</td>\n",
       "      <td>11</td>\n",
       "      <td>22</td>\n",
       "      <td>49</td>\n",
       "      <td>10</td>\n",
       "      <td>BAIK</td>\n",
       "    </tr>\n",
       "    <tr>\n",
       "      <th>2006</th>\n",
       "      <td>41</td>\n",
       "      <td>80.0</td>\n",
       "      <td>11</td>\n",
       "      <td>25</td>\n",
       "      <td>59</td>\n",
       "      <td>13</td>\n",
       "      <td>SEDANG</td>\n",
       "    </tr>\n",
       "    <tr>\n",
       "      <th>2007</th>\n",
       "      <td>25</td>\n",
       "      <td>80.0</td>\n",
       "      <td>11</td>\n",
       "      <td>27</td>\n",
       "      <td>41</td>\n",
       "      <td>12</td>\n",
       "      <td>BAIK</td>\n",
       "    </tr>\n",
       "    <tr>\n",
       "      <th>2008</th>\n",
       "      <td>22</td>\n",
       "      <td>80.0</td>\n",
       "      <td>12</td>\n",
       "      <td>18</td>\n",
       "      <td>40</td>\n",
       "      <td>13</td>\n",
       "      <td>BAIK</td>\n",
       "    </tr>\n",
       "  </tbody>\n",
       "</table>\n",
       "<p>14652 rows × 7 columns</p>\n",
       "</div>"
      ],
      "text/plain": [
       "     pm10  pm25 so2  co   o3 no2     categori\n",
       "0      73  80.0  29  45  100  11       SEDANG\n",
       "1      58  80.0  30  38  131  14  TIDAK SEHAT\n",
       "2      64  80.0  30  41  136  21  TIDAK SEHAT\n",
       "3      87  80.0  30  49  133  15  TIDAK SEHAT\n",
       "4     107  80.0  30  47  108  21  TIDAK SEHAT\n",
       "...   ...   ...  ..  ..  ...  ..          ...\n",
       "2004   45  80.0  11  28   53  13       SEDANG\n",
       "2005   31  80.0  11  22   49  10         BAIK\n",
       "2006   41  80.0  11  25   59  13       SEDANG\n",
       "2007   25  80.0  11  27   41  12         BAIK\n",
       "2008   22  80.0  12  18   40  13         BAIK\n",
       "\n",
       "[14652 rows x 7 columns]"
      ]
     },
     "execution_count": 10,
     "metadata": {},
     "output_type": "execute_result"
    }
   ],
   "source": [
    "df_cleaned"
   ]
  },
  {
   "cell_type": "code",
   "execution_count": 11,
   "id": "00439f52",
   "metadata": {},
   "outputs": [
    {
     "name": "stdout",
     "output_type": "stream",
     "text": [
      "<class 'pandas.core.frame.DataFrame'>\n",
      "Int64Index: 14652 entries, 0 to 2008\n",
      "Data columns (total 7 columns):\n",
      " #   Column    Non-Null Count  Dtype \n",
      "---  ------    --------------  ----- \n",
      " 0   pm10      14652 non-null  object\n",
      " 1   pm25      14652 non-null  object\n",
      " 2   so2       14652 non-null  object\n",
      " 3   co        14652 non-null  object\n",
      " 4   o3        14652 non-null  object\n",
      " 5   no2       14652 non-null  object\n",
      " 6   categori  14652 non-null  object\n",
      "dtypes: object(7)\n",
      "memory usage: 915.8+ KB\n"
     ]
    }
   ],
   "source": [
    "df_cleaned.info()"
   ]
  },
  {
   "cell_type": "code",
   "execution_count": 12,
   "id": "fe56e047",
   "metadata": {},
   "outputs": [
    {
     "name": "stdout",
     "output_type": "stream",
     "text": [
      "<class 'pandas.core.frame.DataFrame'>\n",
      "Int64Index: 14652 entries, 0 to 2008\n",
      "Data columns (total 7 columns):\n",
      " #   Column    Non-Null Count  Dtype \n",
      "---  ------    --------------  ----- \n",
      " 0   pm10      14652 non-null  int32 \n",
      " 1   pm25      14652 non-null  int32 \n",
      " 2   so2       14652 non-null  int32 \n",
      " 3   co        14652 non-null  int32 \n",
      " 4   o3        14652 non-null  int32 \n",
      " 5   no2       14652 non-null  int32 \n",
      " 6   categori  14652 non-null  object\n",
      "dtypes: int32(6), object(1)\n",
      "memory usage: 572.3+ KB\n"
     ]
    }
   ],
   "source": [
    "#Parsing int64\n",
    "df_cleaned = df_cleaned.astype({'pm10': int, 'pm25': int, 'so2': int, 'co': int, 'o3': int, 'no2': int})\n",
    "\n",
    "df_cleaned.info()"
   ]
  },
  {
   "cell_type": "code",
   "execution_count": 13,
   "id": "fc512a56",
   "metadata": {},
   "outputs": [
    {
     "data": {
      "image/png": "[encoded data removed]",
      "text/plain": [
       "<Figure size 2000x1000 with 1 Axes>"
      ]
     },
     "metadata": {},
     "output_type": "display_data"
    }
   ],
   "source": [
    "features = df_cleaned.drop(['categori'], axis=1) # dropping target\n",
    "#Detecting outliers\n",
    "plt.figure(figsize=(20,10))\n",
    "sns.boxplot(data = features)\n",
    "plt.xticks(rotation=90)\n",
    "plt.show()"
   ]
  },
  {
   "cell_type": "code",
   "execution_count": 14,
   "id": "af80a1d1",
   "metadata": {},
   "outputs": [
    {
     "data": {
      "text/plain": [
       "SEDANG                9455\n",
       "TIDAK SEHAT           2437\n",
       "BAIK                  2213\n",
       "SANGAT TIDAK SEHAT     543\n",
       "BERBAHAYA                4\n",
       "Name: categori, dtype: int64"
      ]
     },
     "execution_count": 14,
     "metadata": {},
     "output_type": "execute_result"
    },
    {
     "data": {
      "image/png": "[encoded data removed]",
      "text/plain": [
       "<Figure size 640x480 with 1 Axes>"
      ]
     },
     "metadata": {},
     "output_type": "display_data"
    }
   ],
   "source": [
    "dki_count  = df_cleaned['categori'].value_counts()\n",
    "dki_count.plot(kind= 'bar')\n",
    "dki_count"
   ]
  },
  {
   "cell_type": "code",
   "execution_count": 15,
   "id": "47dcb1b1",
   "metadata": {},
   "outputs": [
    {
     "data": {
      "text/html": [
       "<div>\n",
       "<style scoped>\n",
       "    .dataframe tbody tr th:only-of-type {\n",
       "        vertical-align: middle;\n",
       "    }\n",
       "\n",
       "    .dataframe tbody tr th {\n",
       "        vertical-align: top;\n",
       "    }\n",
       "\n",
       "    .dataframe thead th {\n",
       "        text-align: right;\n",
       "    }\n",
       "</style>\n",
       "<table border=\"1\" class=\"dataframe\">\n",
       "  <thead>\n",
       "    <tr style=\"text-align: right;\">\n",
       "      <th></th>\n",
       "      <th>count</th>\n",
       "      <th>mean</th>\n",
       "      <th>std</th>\n",
       "      <th>min</th>\n",
       "      <th>25%</th>\n",
       "      <th>50%</th>\n",
       "      <th>75%</th>\n",
       "      <th>max</th>\n",
       "    </tr>\n",
       "  </thead>\n",
       "  <tbody>\n",
       "    <tr>\n",
       "      <th>pm10</th>\n",
       "      <td>14652.0</td>\n",
       "      <td>56.407931</td>\n",
       "      <td>20.852353</td>\n",
       "      <td>0.0</td>\n",
       "      <td>45.0</td>\n",
       "      <td>57.0</td>\n",
       "      <td>68.0</td>\n",
       "      <td>179.0</td>\n",
       "    </tr>\n",
       "    <tr>\n",
       "      <th>pm25</th>\n",
       "      <td>14652.0</td>\n",
       "      <td>80.077054</td>\n",
       "      <td>8.623183</td>\n",
       "      <td>13.0</td>\n",
       "      <td>80.0</td>\n",
       "      <td>80.0</td>\n",
       "      <td>80.0</td>\n",
       "      <td>174.0</td>\n",
       "    </tr>\n",
       "    <tr>\n",
       "      <th>so2</th>\n",
       "      <td>14652.0</td>\n",
       "      <td>17.921239</td>\n",
       "      <td>12.971386</td>\n",
       "      <td>0.0</td>\n",
       "      <td>8.0</td>\n",
       "      <td>15.0</td>\n",
       "      <td>26.0</td>\n",
       "      <td>126.0</td>\n",
       "    </tr>\n",
       "    <tr>\n",
       "      <th>co</th>\n",
       "      <td>14652.0</td>\n",
       "      <td>24.942806</td>\n",
       "      <td>14.103080</td>\n",
       "      <td>0.0</td>\n",
       "      <td>14.0</td>\n",
       "      <td>23.0</td>\n",
       "      <td>33.0</td>\n",
       "      <td>134.0</td>\n",
       "    </tr>\n",
       "    <tr>\n",
       "      <th>o3</th>\n",
       "      <td>14652.0</td>\n",
       "      <td>72.046820</td>\n",
       "      <td>46.537560</td>\n",
       "      <td>0.0</td>\n",
       "      <td>42.0</td>\n",
       "      <td>63.0</td>\n",
       "      <td>87.0</td>\n",
       "      <td>314.0</td>\n",
       "    </tr>\n",
       "    <tr>\n",
       "      <th>no2</th>\n",
       "      <td>14652.0</td>\n",
       "      <td>14.633019</td>\n",
       "      <td>7.694520</td>\n",
       "      <td>0.0</td>\n",
       "      <td>10.0</td>\n",
       "      <td>14.0</td>\n",
       "      <td>18.0</td>\n",
       "      <td>134.0</td>\n",
       "    </tr>\n",
       "  </tbody>\n",
       "</table>\n",
       "</div>"
      ],
      "text/plain": [
       "        count       mean        std   min   25%   50%   75%    max\n",
       "pm10  14652.0  56.407931  20.852353   0.0  45.0  57.0  68.0  179.0\n",
       "pm25  14652.0  80.077054   8.623183  13.0  80.0  80.0  80.0  174.0\n",
       "so2   14652.0  17.921239  12.971386   0.0   8.0  15.0  26.0  126.0\n",
       "co    14652.0  24.942806  14.103080   0.0  14.0  23.0  33.0  134.0\n",
       "o3    14652.0  72.046820  46.537560   0.0  42.0  63.0  87.0  314.0\n",
       "no2   14652.0  14.633019   7.694520   0.0  10.0  14.0  18.0  134.0"
      ]
     },
     "execution_count": 15,
     "metadata": {},
     "output_type": "execute_result"
    }
   ],
   "source": [
    "df_cleaned.describe().T"
   ]
  },
  {
   "cell_type": "code",
   "execution_count": 16,
   "id": "b3b6e58b",
   "metadata": {
    "scrolled": false
   },
   "outputs": [
    {
     "data": {
      "text/html": [
       "<div>\n",
       "<style scoped>\n",
       "    .dataframe tbody tr th:only-of-type {\n",
       "        vertical-align: middle;\n",
       "    }\n",
       "\n",
       "    .dataframe tbody tr th {\n",
       "        vertical-align: top;\n",
       "    }\n",
       "\n",
       "    .dataframe thead th {\n",
       "        text-align: right;\n",
       "    }\n",
       "</style>\n",
       "<table border=\"1\" class=\"dataframe\">\n",
       "  <thead>\n",
       "    <tr style=\"text-align: right;\">\n",
       "      <th></th>\n",
       "      <th>pm10</th>\n",
       "      <th>pm25</th>\n",
       "      <th>so2</th>\n",
       "      <th>co</th>\n",
       "      <th>o3</th>\n",
       "      <th>no2</th>\n",
       "      <th>categori</th>\n",
       "    </tr>\n",
       "  </thead>\n",
       "  <tbody>\n",
       "    <tr>\n",
       "      <th>0</th>\n",
       "      <td>73</td>\n",
       "      <td>80</td>\n",
       "      <td>29</td>\n",
       "      <td>45</td>\n",
       "      <td>100</td>\n",
       "      <td>11</td>\n",
       "      <td>SEDANG</td>\n",
       "    </tr>\n",
       "    <tr>\n",
       "      <th>1</th>\n",
       "      <td>58</td>\n",
       "      <td>80</td>\n",
       "      <td>30</td>\n",
       "      <td>38</td>\n",
       "      <td>131</td>\n",
       "      <td>14</td>\n",
       "      <td>TIDAK SEHAT</td>\n",
       "    </tr>\n",
       "    <tr>\n",
       "      <th>2</th>\n",
       "      <td>64</td>\n",
       "      <td>80</td>\n",
       "      <td>30</td>\n",
       "      <td>41</td>\n",
       "      <td>136</td>\n",
       "      <td>21</td>\n",
       "      <td>TIDAK SEHAT</td>\n",
       "    </tr>\n",
       "    <tr>\n",
       "      <th>3</th>\n",
       "      <td>87</td>\n",
       "      <td>80</td>\n",
       "      <td>30</td>\n",
       "      <td>49</td>\n",
       "      <td>133</td>\n",
       "      <td>15</td>\n",
       "      <td>TIDAK SEHAT</td>\n",
       "    </tr>\n",
       "    <tr>\n",
       "      <th>4</th>\n",
       "      <td>107</td>\n",
       "      <td>80</td>\n",
       "      <td>30</td>\n",
       "      <td>47</td>\n",
       "      <td>108</td>\n",
       "      <td>21</td>\n",
       "      <td>TIDAK SEHAT</td>\n",
       "    </tr>\n",
       "    <tr>\n",
       "      <th>...</th>\n",
       "      <td>...</td>\n",
       "      <td>...</td>\n",
       "      <td>...</td>\n",
       "      <td>...</td>\n",
       "      <td>...</td>\n",
       "      <td>...</td>\n",
       "      <td>...</td>\n",
       "    </tr>\n",
       "    <tr>\n",
       "      <th>2004</th>\n",
       "      <td>45</td>\n",
       "      <td>80</td>\n",
       "      <td>11</td>\n",
       "      <td>28</td>\n",
       "      <td>53</td>\n",
       "      <td>13</td>\n",
       "      <td>SEDANG</td>\n",
       "    </tr>\n",
       "    <tr>\n",
       "      <th>2005</th>\n",
       "      <td>31</td>\n",
       "      <td>80</td>\n",
       "      <td>11</td>\n",
       "      <td>22</td>\n",
       "      <td>49</td>\n",
       "      <td>10</td>\n",
       "      <td>BAIK</td>\n",
       "    </tr>\n",
       "    <tr>\n",
       "      <th>2006</th>\n",
       "      <td>41</td>\n",
       "      <td>80</td>\n",
       "      <td>11</td>\n",
       "      <td>25</td>\n",
       "      <td>59</td>\n",
       "      <td>13</td>\n",
       "      <td>SEDANG</td>\n",
       "    </tr>\n",
       "    <tr>\n",
       "      <th>2007</th>\n",
       "      <td>25</td>\n",
       "      <td>80</td>\n",
       "      <td>11</td>\n",
       "      <td>27</td>\n",
       "      <td>41</td>\n",
       "      <td>12</td>\n",
       "      <td>BAIK</td>\n",
       "    </tr>\n",
       "    <tr>\n",
       "      <th>2008</th>\n",
       "      <td>22</td>\n",
       "      <td>80</td>\n",
       "      <td>12</td>\n",
       "      <td>18</td>\n",
       "      <td>40</td>\n",
       "      <td>13</td>\n",
       "      <td>BAIK</td>\n",
       "    </tr>\n",
       "  </tbody>\n",
       "</table>\n",
       "<p>14652 rows × 7 columns</p>\n",
       "</div>"
      ],
      "text/plain": [
       "      pm10  pm25  so2  co   o3  no2     categori\n",
       "0       73    80   29  45  100   11       SEDANG\n",
       "1       58    80   30  38  131   14  TIDAK SEHAT\n",
       "2       64    80   30  41  136   21  TIDAK SEHAT\n",
       "3       87    80   30  49  133   15  TIDAK SEHAT\n",
       "4      107    80   30  47  108   21  TIDAK SEHAT\n",
       "...    ...   ...  ...  ..  ...  ...          ...\n",
       "2004    45    80   11  28   53   13       SEDANG\n",
       "2005    31    80   11  22   49   10         BAIK\n",
       "2006    41    80   11  25   59   13       SEDANG\n",
       "2007    25    80   11  27   41   12         BAIK\n",
       "2008    22    80   12  18   40   13         BAIK\n",
       "\n",
       "[14652 rows x 7 columns]"
      ]
     },
     "execution_count": 16,
     "metadata": {},
     "output_type": "execute_result"
    }
   ],
   "source": [
    "df_cleaned"
   ]
  },
  {
   "cell_type": "code",
   "execution_count": 17,
   "id": "e7c40aa4",
   "metadata": {},
   "outputs": [
    {
     "data": {
      "text/plain": [
       "SEDANG                9455\n",
       "TIDAK SEHAT           2437\n",
       "BAIK                  2213\n",
       "SANGAT TIDAK SEHAT     543\n",
       "BERBAHAYA                4\n",
       "Name: categori, dtype: int64"
      ]
     },
     "execution_count": 17,
     "metadata": {},
     "output_type": "execute_result"
    },
    {
     "data": {
      "image/png": "[encoded data removed]",
      "text/plain": [
       "<Figure size 640x480 with 1 Axes>"
      ]
     },
     "metadata": {},
     "output_type": "display_data"
    }
   ],
   "source": [
    "dki_count1  = df_cleaned['categori'].value_counts()\n",
    "dki_count1.plot(kind= 'bar')\n",
    "dki_count1"
   ]
  },
  {
   "cell_type": "code",
   "execution_count": 18,
   "id": "42658451",
   "metadata": {
    "scrolled": true
   },
   "outputs": [
    {
     "name": "stdout",
     "output_type": "stream",
     "text": [
      "<class 'pandas.core.frame.DataFrame'>\n",
      "Int64Index: 14652 entries, 0 to 2008\n",
      "Data columns (total 7 columns):\n",
      " #   Column    Non-Null Count  Dtype\n",
      "---  ------    --------------  -----\n",
      " 0   pm10      14652 non-null  int32\n",
      " 1   pm25      14652 non-null  int32\n",
      " 2   so2       14652 non-null  int32\n",
      " 3   co        14652 non-null  int32\n",
      " 4   o3        14652 non-null  int32\n",
      " 5   no2       14652 non-null  int32\n",
      " 6   categori  14652 non-null  int32\n",
      "dtypes: int32(7)\n",
      "memory usage: 515.1 KB\n"
     ]
    }
   ],
   "source": [
    "label_encoder = LabelEncoder()\n",
    "for i in ['categori']:\n",
    "    df_cleaned[i] = label_encoder.fit_transform(df_cleaned[i])\n",
    "\n",
    "df_cleaned.info()"
   ]
  },
  {
   "cell_type": "code",
   "execution_count": 19,
   "id": "93949498",
   "metadata": {
    "scrolled": false
   },
   "outputs": [
    {
     "data": {
      "text/plain": [
       "SEDANG                9455\n",
       "TIDAK SEHAT           2437\n",
       "BAIK                  2213\n",
       "SANGAT TIDAK SEHAT     543\n",
       "BERBAHAYA                4\n",
       "Name: categori, dtype: int64"
      ]
     },
     "execution_count": 19,
     "metadata": {},
     "output_type": "execute_result"
    },
    {
     "data": {
      "image/png": "[encoded data removed]",
      "text/plain": [
       "<Figure size 640x480 with 1 Axes>"
      ]
     },
     "metadata": {},
     "output_type": "display_data"
    }
   ],
   "source": [
    "dki_count  = df_cleaned['categori'].value_counts()\n",
    "dki_count.plot(kind= 'bar')\n",
    "dki_count1"
   ]
  },
  {
   "cell_type": "markdown",
   "id": "2e909c99",
   "metadata": {},
   "source": [
    "3 = SEDANG                  \n",
    "4 = TIDAK SEHAT             \n",
    "0 = BAIK                    \n",
    "2 = SANGAT TIDAK SEHAT      \n",
    "1 = BERBAHAYA                 "
   ]
  },
  {
   "cell_type": "code",
   "execution_count": 20,
   "id": "4f987c72",
   "metadata": {
    "scrolled": true
   },
   "outputs": [
    {
     "data": {
      "text/html": [
       "<div>\n",
       "<style scoped>\n",
       "    .dataframe tbody tr th:only-of-type {\n",
       "        vertical-align: middle;\n",
       "    }\n",
       "\n",
       "    .dataframe tbody tr th {\n",
       "        vertical-align: top;\n",
       "    }\n",
       "\n",
       "    .dataframe thead th {\n",
       "        text-align: right;\n",
       "    }\n",
       "</style>\n",
       "<table border=\"1\" class=\"dataframe\">\n",
       "  <thead>\n",
       "    <tr style=\"text-align: right;\">\n",
       "      <th></th>\n",
       "      <th>pm10</th>\n",
       "      <th>pm25</th>\n",
       "      <th>so2</th>\n",
       "      <th>co</th>\n",
       "      <th>o3</th>\n",
       "      <th>no2</th>\n",
       "      <th>categori</th>\n",
       "    </tr>\n",
       "  </thead>\n",
       "  <tbody>\n",
       "    <tr>\n",
       "      <th>0</th>\n",
       "      <td>0.407821</td>\n",
       "      <td>0.416149</td>\n",
       "      <td>0.230159</td>\n",
       "      <td>0.335821</td>\n",
       "      <td>0.318471</td>\n",
       "      <td>0.082090</td>\n",
       "      <td>3</td>\n",
       "    </tr>\n",
       "    <tr>\n",
       "      <th>1</th>\n",
       "      <td>0.324022</td>\n",
       "      <td>0.416149</td>\n",
       "      <td>0.238095</td>\n",
       "      <td>0.283582</td>\n",
       "      <td>0.417197</td>\n",
       "      <td>0.104478</td>\n",
       "      <td>4</td>\n",
       "    </tr>\n",
       "    <tr>\n",
       "      <th>2</th>\n",
       "      <td>0.357542</td>\n",
       "      <td>0.416149</td>\n",
       "      <td>0.238095</td>\n",
       "      <td>0.305970</td>\n",
       "      <td>0.433121</td>\n",
       "      <td>0.156716</td>\n",
       "      <td>4</td>\n",
       "    </tr>\n",
       "    <tr>\n",
       "      <th>3</th>\n",
       "      <td>0.486034</td>\n",
       "      <td>0.416149</td>\n",
       "      <td>0.238095</td>\n",
       "      <td>0.365672</td>\n",
       "      <td>0.423567</td>\n",
       "      <td>0.111940</td>\n",
       "      <td>4</td>\n",
       "    </tr>\n",
       "    <tr>\n",
       "      <th>4</th>\n",
       "      <td>0.597765</td>\n",
       "      <td>0.416149</td>\n",
       "      <td>0.238095</td>\n",
       "      <td>0.350746</td>\n",
       "      <td>0.343949</td>\n",
       "      <td>0.156716</td>\n",
       "      <td>4</td>\n",
       "    </tr>\n",
       "    <tr>\n",
       "      <th>...</th>\n",
       "      <td>...</td>\n",
       "      <td>...</td>\n",
       "      <td>...</td>\n",
       "      <td>...</td>\n",
       "      <td>...</td>\n",
       "      <td>...</td>\n",
       "      <td>...</td>\n",
       "    </tr>\n",
       "    <tr>\n",
       "      <th>2004</th>\n",
       "      <td>0.251397</td>\n",
       "      <td>0.416149</td>\n",
       "      <td>0.087302</td>\n",
       "      <td>0.208955</td>\n",
       "      <td>0.168790</td>\n",
       "      <td>0.097015</td>\n",
       "      <td>3</td>\n",
       "    </tr>\n",
       "    <tr>\n",
       "      <th>2005</th>\n",
       "      <td>0.173184</td>\n",
       "      <td>0.416149</td>\n",
       "      <td>0.087302</td>\n",
       "      <td>0.164179</td>\n",
       "      <td>0.156051</td>\n",
       "      <td>0.074627</td>\n",
       "      <td>0</td>\n",
       "    </tr>\n",
       "    <tr>\n",
       "      <th>2006</th>\n",
       "      <td>0.229050</td>\n",
       "      <td>0.416149</td>\n",
       "      <td>0.087302</td>\n",
       "      <td>0.186567</td>\n",
       "      <td>0.187898</td>\n",
       "      <td>0.097015</td>\n",
       "      <td>3</td>\n",
       "    </tr>\n",
       "    <tr>\n",
       "      <th>2007</th>\n",
       "      <td>0.139665</td>\n",
       "      <td>0.416149</td>\n",
       "      <td>0.087302</td>\n",
       "      <td>0.201493</td>\n",
       "      <td>0.130573</td>\n",
       "      <td>0.089552</td>\n",
       "      <td>0</td>\n",
       "    </tr>\n",
       "    <tr>\n",
       "      <th>2008</th>\n",
       "      <td>0.122905</td>\n",
       "      <td>0.416149</td>\n",
       "      <td>0.095238</td>\n",
       "      <td>0.134328</td>\n",
       "      <td>0.127389</td>\n",
       "      <td>0.097015</td>\n",
       "      <td>0</td>\n",
       "    </tr>\n",
       "  </tbody>\n",
       "</table>\n",
       "<p>14652 rows × 7 columns</p>\n",
       "</div>"
      ],
      "text/plain": [
       "          pm10      pm25       so2        co        o3       no2  categori\n",
       "0     0.407821  0.416149  0.230159  0.335821  0.318471  0.082090         3\n",
       "1     0.324022  0.416149  0.238095  0.283582  0.417197  0.104478         4\n",
       "2     0.357542  0.416149  0.238095  0.305970  0.433121  0.156716         4\n",
       "3     0.486034  0.416149  0.238095  0.365672  0.423567  0.111940         4\n",
       "4     0.597765  0.416149  0.238095  0.350746  0.343949  0.156716         4\n",
       "...        ...       ...       ...       ...       ...       ...       ...\n",
       "2004  0.251397  0.416149  0.087302  0.208955  0.168790  0.097015         3\n",
       "2005  0.173184  0.416149  0.087302  0.164179  0.156051  0.074627         0\n",
       "2006  0.229050  0.416149  0.087302  0.186567  0.187898  0.097015         3\n",
       "2007  0.139665  0.416149  0.087302  0.201493  0.130573  0.089552         0\n",
       "2008  0.122905  0.416149  0.095238  0.134328  0.127389  0.097015         0\n",
       "\n",
       "[14652 rows x 7 columns]"
      ]
     },
     "execution_count": 20,
     "metadata": {},
     "output_type": "execute_result"
    }
   ],
   "source": [
    "features = df_cleaned.drop(['categori'], axis=1) # dropping target\n",
    "\n",
    "min_max_scaler = MinMaxScaler()\n",
    "df_transformed = df_cleaned.copy()\n",
    "for feature in features:\n",
    "    df_transformed[[feature]] = min_max_scaler.fit_transform(df_cleaned[[feature]])\n",
    "\n",
    "df_transformed"
   ]
  },
  {
   "cell_type": "code",
   "execution_count": 21,
   "id": "5e0bfd89",
   "metadata": {
    "scrolled": true
   },
   "outputs": [
    {
     "data": {
      "text/html": [
       "<div>\n",
       "<style scoped>\n",
       "    .dataframe tbody tr th:only-of-type {\n",
       "        vertical-align: middle;\n",
       "    }\n",
       "\n",
       "    .dataframe tbody tr th {\n",
       "        vertical-align: top;\n",
       "    }\n",
       "\n",
       "    .dataframe thead th {\n",
       "        text-align: right;\n",
       "    }\n",
       "</style>\n",
       "<table border=\"1\" class=\"dataframe\">\n",
       "  <thead>\n",
       "    <tr style=\"text-align: right;\">\n",
       "      <th></th>\n",
       "      <th>count</th>\n",
       "      <th>mean</th>\n",
       "      <th>std</th>\n",
       "      <th>min</th>\n",
       "      <th>25%</th>\n",
       "      <th>50%</th>\n",
       "      <th>75%</th>\n",
       "      <th>max</th>\n",
       "    </tr>\n",
       "  </thead>\n",
       "  <tbody>\n",
       "    <tr>\n",
       "      <th>pm10</th>\n",
       "      <td>14652.0</td>\n",
       "      <td>0.315128</td>\n",
       "      <td>0.116494</td>\n",
       "      <td>0.0</td>\n",
       "      <td>0.251397</td>\n",
       "      <td>0.318436</td>\n",
       "      <td>0.379888</td>\n",
       "      <td>1.0</td>\n",
       "    </tr>\n",
       "    <tr>\n",
       "      <th>pm25</th>\n",
       "      <td>14652.0</td>\n",
       "      <td>0.416628</td>\n",
       "      <td>0.053560</td>\n",
       "      <td>0.0</td>\n",
       "      <td>0.416149</td>\n",
       "      <td>0.416149</td>\n",
       "      <td>0.416149</td>\n",
       "      <td>1.0</td>\n",
       "    </tr>\n",
       "    <tr>\n",
       "      <th>so2</th>\n",
       "      <td>14652.0</td>\n",
       "      <td>0.142232</td>\n",
       "      <td>0.102948</td>\n",
       "      <td>0.0</td>\n",
       "      <td>0.063492</td>\n",
       "      <td>0.119048</td>\n",
       "      <td>0.206349</td>\n",
       "      <td>1.0</td>\n",
       "    </tr>\n",
       "    <tr>\n",
       "      <th>co</th>\n",
       "      <td>14652.0</td>\n",
       "      <td>0.186140</td>\n",
       "      <td>0.105247</td>\n",
       "      <td>0.0</td>\n",
       "      <td>0.104478</td>\n",
       "      <td>0.171642</td>\n",
       "      <td>0.246269</td>\n",
       "      <td>1.0</td>\n",
       "    </tr>\n",
       "    <tr>\n",
       "      <th>o3</th>\n",
       "      <td>14652.0</td>\n",
       "      <td>0.229448</td>\n",
       "      <td>0.148209</td>\n",
       "      <td>0.0</td>\n",
       "      <td>0.133758</td>\n",
       "      <td>0.200637</td>\n",
       "      <td>0.277070</td>\n",
       "      <td>1.0</td>\n",
       "    </tr>\n",
       "    <tr>\n",
       "      <th>no2</th>\n",
       "      <td>14652.0</td>\n",
       "      <td>0.109202</td>\n",
       "      <td>0.057422</td>\n",
       "      <td>0.0</td>\n",
       "      <td>0.074627</td>\n",
       "      <td>0.104478</td>\n",
       "      <td>0.134328</td>\n",
       "      <td>1.0</td>\n",
       "    </tr>\n",
       "    <tr>\n",
       "      <th>categori</th>\n",
       "      <td>14652.0</td>\n",
       "      <td>2.675607</td>\n",
       "      <td>1.207759</td>\n",
       "      <td>0.0</td>\n",
       "      <td>3.000000</td>\n",
       "      <td>3.000000</td>\n",
       "      <td>3.000000</td>\n",
       "      <td>4.0</td>\n",
       "    </tr>\n",
       "  </tbody>\n",
       "</table>\n",
       "</div>"
      ],
      "text/plain": [
       "            count      mean       std  min       25%       50%       75%  max\n",
       "pm10      14652.0  0.315128  0.116494  0.0  0.251397  0.318436  0.379888  1.0\n",
       "pm25      14652.0  0.416628  0.053560  0.0  0.416149  0.416149  0.416149  1.0\n",
       "so2       14652.0  0.142232  0.102948  0.0  0.063492  0.119048  0.206349  1.0\n",
       "co        14652.0  0.186140  0.105247  0.0  0.104478  0.171642  0.246269  1.0\n",
       "o3        14652.0  0.229448  0.148209  0.0  0.133758  0.200637  0.277070  1.0\n",
       "no2       14652.0  0.109202  0.057422  0.0  0.074627  0.104478  0.134328  1.0\n",
       "categori  14652.0  2.675607  1.207759  0.0  3.000000  3.000000  3.000000  4.0"
      ]
     },
     "execution_count": 21,
     "metadata": {},
     "output_type": "execute_result"
    }
   ],
   "source": [
    "df_transformed.describe().T"
   ]
  },
  {
   "cell_type": "code",
   "execution_count": 22,
   "id": "b2a5d0f6",
   "metadata": {
    "scrolled": true
   },
   "outputs": [
    {
     "data": {
      "text/plain": [
       "<AxesSubplot:xlabel='categori', ylabel='pm10'>"
      ]
     },
     "execution_count": 22,
     "metadata": {},
     "output_type": "execute_result"
    },
    {
     "data": {
      "image/png": "[encoded data removed]",
      "text/plain": [
       "<Figure size 1000x600 with 1 Axes>"
      ]
     },
     "metadata": {},
     "output_type": "display_data"
    }
   ],
   "source": [
    "fig = plt.figure(figsize = (10,6))\n",
    "sns.barplot(x = 'categori', y = 'pm10', data = df_transformed)"
   ]
  },
  {
   "cell_type": "code",
   "execution_count": 23,
   "id": "41404c90",
   "metadata": {
    "scrolled": false
   },
   "outputs": [
    {
     "data": {
      "text/plain": [
       "<AxesSubplot:xlabel='categori', ylabel='pm25'>"
      ]
     },
     "execution_count": 23,
     "metadata": {},
     "output_type": "execute_result"
    },
    {
     "data": {
      "image/png": "[encoded data removed]",
      "text/plain": [
       "<Figure size 1000x600 with 1 Axes>"
      ]
     },
     "metadata": {},
     "output_type": "display_data"
    }
   ],
   "source": [
    "fig = plt.figure(figsize = (10,6))\n",
    "sns.barplot(x = 'categori', y = 'pm25', data = df_transformed)"
   ]
  },
  {
   "cell_type": "code",
   "execution_count": 24,
   "id": "5acc9113",
   "metadata": {},
   "outputs": [
    {
     "data": {
      "text/plain": [
       "<AxesSubplot:xlabel='categori', ylabel='so2'>"
      ]
     },
     "execution_count": 24,
     "metadata": {},
     "output_type": "execute_result"
    },
    {
     "data": {
      "image/png": "[encoded data removed]",
      "text/plain": [
       "<Figure size 1000x600 with 1 Axes>"
      ]
     },
     "metadata": {},
     "output_type": "display_data"
    }
   ],
   "source": [
    "fig = plt.figure(figsize = (10,6))\n",
    "sns.barplot(x = 'categori', y = 'so2', data = df_transformed)"
   ]
  },
  {
   "cell_type": "code",
   "execution_count": 25,
   "id": "31d65d9c",
   "metadata": {
    "scrolled": false
   },
   "outputs": [
    {
     "data": {
      "text/plain": [
       "<AxesSubplot:xlabel='categori', ylabel='count'>"
      ]
     },
     "execution_count": 25,
     "metadata": {},
     "output_type": "execute_result"
    },
    {
     "data": {
      "image/png": "[encoded data removed]",
      "text/plain": [
       "<Figure size 640x480 with 1 Axes>"
      ]
     },
     "metadata": {},
     "output_type": "display_data"
    }
   ],
   "source": [
    "sns.countplot(x= df_transformed['categori'])"
   ]
  },
  {
   "cell_type": "code",
   "execution_count": 26,
   "id": "b2b1c7b2",
   "metadata": {},
   "outputs": [],
   "source": [
    "X = df_transformed.iloc[:, 0:6].values\n",
    "y = df_transformed.iloc[:, 6].values"
   ]
  },
  {
   "cell_type": "markdown",
   "id": "d1f69f66",
   "metadata": {},
   "source": [
    "#### 30% data test 70% data test"
   ]
  },
  {
   "cell_type": "code",
   "execution_count": 27,
   "id": "14ab536e",
   "metadata": {},
   "outputs": [
    {
     "ename": "NameError",
     "evalue": "name 'train_test_split' is not defined",
     "output_type": "error",
     "traceback": [
      "\u001b[1;31m---------------------------------------------------------------------------\u001b[0m",
      "\u001b[1;31mNameError\u001b[0m                                 Traceback (most recent call last)",
      "\u001b[1;32m~\\AppData\\Local\\Temp\\ipykernel_21444\\2403286648.py\u001b[0m in \u001b[0;36m<module>\u001b[1;34m\u001b[0m\n\u001b[1;32m----> 1\u001b[1;33m \u001b[0mX_train\u001b[0m\u001b[1;33m,\u001b[0m \u001b[0mX_test\u001b[0m\u001b[1;33m,\u001b[0m \u001b[0my_train\u001b[0m\u001b[1;33m,\u001b[0m \u001b[0my_test\u001b[0m \u001b[1;33m=\u001b[0m \u001b[0mtrain_test_split\u001b[0m\u001b[1;33m(\u001b[0m\u001b[0mX\u001b[0m\u001b[1;33m,\u001b[0m \u001b[0my\u001b[0m\u001b[1;33m,\u001b[0m \u001b[0mtest_size\u001b[0m \u001b[1;33m=\u001b[0m \u001b[1;36m0.2\u001b[0m\u001b[1;33m,\u001b[0m \u001b[0mrandom_state\u001b[0m \u001b[1;33m=\u001b[0m \u001b[1;36m42\u001b[0m\u001b[1;33m)\u001b[0m\u001b[1;33m\u001b[0m\u001b[1;33m\u001b[0m\u001b[0m\n\u001b[0m",
      "\u001b[1;31mNameError\u001b[0m: name 'train_test_split' is not defined"
     ]
    }
   ],
   "source": [
    "X_train, X_test, y_train, y_test = train_test_split(X, y, test_size = 0.2, random_state = 42)"
   ]
  },
  {
   "cell_type": "code",
   "execution_count": null,
   "id": "96949f79",
   "metadata": {},
   "outputs": [],
   "source": [
    "dtc30 = DecisionTreeClassifier(max_depth=5)\n",
    "dtc30.fit(X_train, y_train)\n",
    "pred_dtc30 = dtc30.predict(X_test)"
   ]
  },
  {
   "cell_type": "code",
   "execution_count": null,
   "id": "1bc6eece",
   "metadata": {
    "scrolled": true
   },
   "outputs": [],
   "source": [
    "print(classification_report(y_test, pred_dtc30))"
   ]
  },
  {
   "cell_type": "code",
   "execution_count": null,
   "id": "f4b54aac",
   "metadata": {},
   "outputs": [],
   "source": [
    "cm = confusion_matrix(y_test, pred_dtc30)\n",
    "tn30 = cm[0, 0]\n",
    "fp30 = cm[0, 1]\n",
    "fn30 = cm[1, 0]\n",
    "tp30 = cm[1, 1]"
   ]
  },
  {
   "cell_type": "code",
   "execution_count": null,
   "id": "dc2d5c71",
   "metadata": {},
   "outputs": [],
   "source": [
    "print(\"True Negative (TN):\", tn30)\n",
    "print(\"False Positive (FP):\", fp30)\n",
    "print(\"False Negative (FN):\", fn30)\n",
    "print(\"True Positive (TP):\", tp30)"
   ]
  },
  {
   "cell_type": "code",
   "execution_count": null,
   "id": "77f03676",
   "metadata": {},
   "outputs": [],
   "source": [
    "recall_pos = tp30 / (tp30 + fn30)\n",
    "recall_neg = tn30 / (tn30 + fp30)"
   ]
  },
  {
   "cell_type": "code",
   "execution_count": null,
   "id": "6a80a9f7",
   "metadata": {},
   "outputs": [],
   "source": [
    "gmean = (recall_pos * recall_neg) ** 0.5\n",
    "print(\"G-mean:\", gmean)"
   ]
  },
  {
   "cell_type": "code",
   "execution_count": null,
   "id": "7e31ff02",
   "metadata": {},
   "outputs": [],
   "source": [
    "specificity = tn30 / (tn30 + fp30)\n",
    "\n",
    "print(\"Specificity:\", specificity)"
   ]
  },
  {
   "cell_type": "code",
   "execution_count": null,
   "id": "fb03fafa",
   "metadata": {},
   "outputs": [],
   "source": [
    "sensitivity = tp30 / (tp30 + fn30)\n",
    "print(\"Sensitivity:\", sensitivity)"
   ]
  },
  {
   "cell_type": "code",
   "execution_count": null,
   "id": "999afb32",
   "metadata": {},
   "outputs": [],
   "source": [
    "class_count = df_transformed['categori'].value_counts()\n",
    "class_ratio = class_count / len(df_transformed)"
   ]
  },
  {
   "cell_type": "code",
   "execution_count": null,
   "id": "d67583e0",
   "metadata": {},
   "outputs": [],
   "source": [
    "print(\"Perbandingan jumlah sampel pada setiap kelas:\")\n",
    "print(class_ratio)\n",
    "\n",
    "# cek apakah data seimbang atau tidak\n",
    "if min(class_ratio) / max(class_ratio) >= 0.5:\n",
    "    print(\"Data seimbang\")\n",
    "else:\n",
    "    print(\"Data tidak seimbang\")"
   ]
  },
  {
   "cell_type": "markdown",
   "id": "2e7ac591",
   "metadata": {},
   "source": [
    "#  =============================================================="
   ]
  },
  {
   "cell_type": "code",
   "execution_count": null,
   "id": "688eb1d5",
   "metadata": {},
   "outputs": [],
   "source": [
    "from sklearn.model_selection import train_test_split\n",
    "from sklearn.ensemble import RandomForestClassifier\n",
    "from sklearn.metrics import classification_report\n",
    "from sklearn.metrics import confusion_matrix\n",
    "from sklearn.tree import DecisionTreeClassifier\n",
    "from sklearn.metrics import accuracy_score\n",
    "from sklearn import tree\n",
    "from sklearn import datasets\n",
    "from sklearn import preprocessing\n",
    "import seaborn as sns\n",
    "from sklearn.tree import export_graphviz"
   ]
  },
  {
   "cell_type": "code",
   "execution_count": null,
   "id": "49c06e0c",
   "metadata": {},
   "outputs": [],
   "source": [
    "df_cleaned.head()"
   ]
  },
  {
   "cell_type": "code",
   "execution_count": null,
   "id": "c0020752",
   "metadata": {},
   "outputs": [],
   "source": [
    "X = df_cleaned.iloc[:, 0:6].values\n",
    "y = df_cleaned.iloc[:, 6].values"
   ]
  },
  {
   "cell_type": "code",
   "execution_count": null,
   "id": "605b2405",
   "metadata": {},
   "outputs": [],
   "source": [
    "X_train, X_test, y_train, y_test = train_test_split(X, y, test_size = 0.2, random_state = 42)"
   ]
  },
  {
   "cell_type": "code",
   "execution_count": null,
   "id": "65ed228e",
   "metadata": {},
   "outputs": [],
   "source": [
    "dtc = DecisionTreeClassifier(max_depth=6, criterion='entropy', random_state=3)\n",
    "dtc.fit(X_train, y_train)\n",
    "pred_dtc = dtc.predict(X_test)"
   ]
  },
  {
   "cell_type": "code",
   "execution_count": null,
   "id": "4b018ce0",
   "metadata": {},
   "outputs": [],
   "source": [
    "print(classification_report(y_test, pred_dtc))"
   ]
  },
  {
   "cell_type": "code",
   "execution_count": null,
   "id": "021b2a95",
   "metadata": {},
   "outputs": [],
   "source": [
    "plt.figure(figsize=(200,50))\n",
    "_ = tree.plot_tree(dtc , filled=True)"
   ]
  },
  {
   "cell_type": "code",
   "execution_count": null,
   "id": "da986b82",
   "metadata": {},
   "outputs": [],
   "source": [
    "pred_dtc1 = dtc.predict([['51','40', '12','15','10','11']])"
   ]
  },
  {
   "cell_type": "code",
   "execution_count": null,
   "id": "33740a75",
   "metadata": {},
   "outputs": [],
   "source": [
    "pred_dtc1"
   ]
  },
  {
   "cell_type": "code",
   "execution_count": null,
   "id": "123538ae",
   "metadata": {
    "scrolled": true
   },
   "outputs": [],
   "source": [
    "fp = confusion_matrix(y_test, pred_dtc).ravel()"
   ]
  },
  {
   "cell_type": "code",
   "execution_count": null,
   "id": "cb8cae7b",
   "metadata": {},
   "outputs": [],
   "source": [
    "print(confusion_matrix(y_test, pred_dtc))"
   ]
  },
  {
   "cell_type": "code",
   "execution_count": null,
   "id": "6fdc38a7",
   "metadata": {},
   "outputs": [],
   "source": [
    "cm = confusion_matrix(y_test, pred_dtc)\n",
    "tn = cm[0, 0]\n",
    "fp = cm[0, 1]\n",
    "fn = cm[1, 0]\n",
    "tp = cm[1, 1]"
   ]
  },
  {
   "cell_type": "code",
   "execution_count": null,
   "id": "c764dd61",
   "metadata": {},
   "outputs": [],
   "source": [
    "print(\"True Negative (TN):\", tn)\n",
    "print(\"False Positive (FP):\", fp)\n",
    "print(\"False Negative (FN):\", fn)\n",
    "print(\"True Positive (TP):\", tp)"
   ]
  },
  {
   "cell_type": "code",
   "execution_count": null,
   "id": "d9d02c58",
   "metadata": {},
   "outputs": [],
   "source": [
    "sns.heatmap(cm, annot=True, cmap='Blues', fmt='g')\n",
    "plt.xlabel('Predicted')\n",
    "plt.ylabel('True')\n",
    "plt.show()"
   ]
  },
  {
   "cell_type": "code",
   "execution_count": null,
   "id": "50d627ef",
   "metadata": {},
   "outputs": [],
   "source": []
  },
  {
   "cell_type": "code",
   "execution_count": null,
   "id": "3d8e8e8a",
   "metadata": {},
   "outputs": [],
   "source": []
  }
 ],
 "metadata": {
  "kernelspec": {
   "display_name": "Python 3 (ipykernel)",
   "language": "python",
   "name": "python3"
  },
  "language_info": {
   "codemirror_mode": {
    "name": "ipython",
    "version": 3
   },
   "file_extension": ".py",
   "mimetype": "text/x-python",
   "name": "python",
   "nbconvert_exporter": "python",
   "pygments_lexer": "ipython3",
   "version": "3.7.15"
  }
 },
 "nbformat": 4,
 "nbformat_minor": 5
}
